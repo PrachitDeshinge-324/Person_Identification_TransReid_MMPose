{
 "cells": [
  {
   "cell_type": "code",
   "execution_count": null,
   "id": "55ff0937",
   "metadata": {},
   "outputs": [],
   "source": [
    "from ultralytics import YOLO\n",
    "\n",
    "# Download and load the YOLO model (e.g., YOLOv8n - nano version)\n",
    "model = YOLO('yolov8n.pt')  # You can replace 'yolov8n.pt' with other versions like 'yolov8s.pt', 'yolov8m.pt', etc.\n",
    "\n",
    "# Print model information\n",
    "print(model)"
   ]
  },
  {
   "cell_type": "code",
   "execution_count": null,
   "id": "fd63e2af",
   "metadata": {},
   "outputs": [],
   "source": [
    "import pickle\n",
    "\n",
    "# Load the .pkl file\n",
    "with open('db.pkl', 'rb') as file:\n",
    "    db = pickle.load(file)\n",
    "\n",
    "# Print keys and check if they have values (True/False)\n",
    "for key, value in db.items():\n",
    "    print(f\"Key: {key}, Has Value: {bool(value)}\")"
   ]
  }
 ],
 "metadata": {
  "kernelspec": {
   "display_name": "MOT",
   "language": "python",
   "name": "python3"
  },
  "language_info": {
   "name": "python",
   "version": "3.9.21"
  }
 },
 "nbformat": 4,
 "nbformat_minor": 5
}
